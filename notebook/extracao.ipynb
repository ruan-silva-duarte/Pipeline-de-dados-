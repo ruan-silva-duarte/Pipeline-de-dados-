{
 "cells": [
  {
   "cell_type": "markdown",
   "metadata": {},
   "source": [
    "ler os dados"
   ]
  },
  {
   "cell_type": "code",
   "execution_count": 1,
   "metadata": {},
   "outputs": [],
   "source": [
    "path_dados_a_json = '../data_raw/dados_a.json'"
   ]
  },
  {
   "cell_type": "code",
   "execution_count": 2,
   "metadata": {},
   "outputs": [],
   "source": [
    "import json"
   ]
  },
  {
   "cell_type": "code",
   "execution_count": 3,
   "metadata": {},
   "outputs": [],
   "source": [
    "with open(path_dados_a_json,'r') as file:\n",
    "    dados_json = json.load(file)"
   ]
  },
  {
   "cell_type": "code",
   "execution_count": 4,
   "metadata": {},
   "outputs": [
    {
     "data": {
      "text/plain": [
       "[{'id': 123,\n",
       "  'nome': 'João Silva',\n",
       "  'idade': 28,\n",
       "  'email': 'joao.silva@example.com',\n",
       "  'endereco': {'rua': 'Rua das Flores',\n",
       "   'numero': 45,\n",
       "   'cidade': 'São Paulo',\n",
       "   'estado': 'SP',\n",
       "   'cep': '01234-567'},\n",
       "  'telefone': '(11) 98765-4321',\n",
       "  'habilidades': ['JavaScript', 'PHP', 'MySQL'],\n",
       "  'experiencia': [{'empresa': 'Tech Solutions',\n",
       "    'cargo': 'Desenvolvedor Frontend',\n",
       "    'inicio': '2020-01-15',\n",
       "    'fim': '2022-06-30'},\n",
       "   {'empresa': 'Web Innovators',\n",
       "    'cargo': 'Desenvolvedor Full Stack',\n",
       "    'inicio': '2022-07-01',\n",
       "    'fim': '2024-12-01'}],\n",
       "  'status': 'ativo'},\n",
       " {'id': 456,\n",
       "  'nome': 'Maria Oliveira',\n",
       "  'idade': 34,\n",
       "  'email': 'maria.oliveira@example.com',\n",
       "  'endereco': {'rua': 'Avenida Central',\n",
       "   'numero': 123,\n",
       "   'cidade': 'Rio de Janeiro',\n",
       "   'estado': 'RJ',\n",
       "   'cep': '21000-001'},\n",
       "  'telefone': '(21) 99876-5432',\n",
       "  'habilidades': ['Python', 'Django', 'PostgreSQL'],\n",
       "  'experiencia': [{'empresa': 'Code Masters',\n",
       "    'cargo': 'Analista de Sistemas',\n",
       "    'inicio': '2018-03-01',\n",
       "    'fim': '2021-08-15'},\n",
       "   {'empresa': 'Cloud Tech',\n",
       "    'cargo': 'Engenheira de Software',\n",
       "    'inicio': '2021-09-01',\n",
       "    'fim': '2024-12-01'}],\n",
       "  'status': 'ativo'},\n",
       " {'id': 789,\n",
       "  'nome': 'Carlos Almeida',\n",
       "  'idade': 41,\n",
       "  'email': 'carlos.almeida@example.com',\n",
       "  'endereco': {'rua': 'Rua do Sol',\n",
       "   'numero': 78,\n",
       "   'cidade': 'Belo Horizonte',\n",
       "   'estado': 'MG',\n",
       "   'cep': '31000-987'},\n",
       "  'telefone': '(31) 91234-5678',\n",
       "  'habilidades': ['Java', 'Spring Boot', 'MongoDB'],\n",
       "  'experiencia': [{'empresa': 'Smart Devs',\n",
       "    'cargo': 'Desenvolvedor Backend',\n",
       "    'inicio': '2015-05-10',\n",
       "    'fim': '2019-12-20'},\n",
       "   {'empresa': 'Next Level IT',\n",
       "    'cargo': 'Arquiteto de Software',\n",
       "    'inicio': '2020-01-15',\n",
       "    'fim': '2024-12-01'}],\n",
       "  'status': 'ativo'}]"
      ]
     },
     "execution_count": 4,
     "metadata": {},
     "output_type": "execute_result"
    }
   ],
   "source": [
    "dados_json"
   ]
  },
  {
   "cell_type": "code",
   "execution_count": 5,
   "metadata": {},
   "outputs": [],
   "source": [
    "import csv"
   ]
  },
  {
   "cell_type": "code",
   "execution_count": 6,
   "metadata": {},
   "outputs": [],
   "source": [
    "path_dados_b_csv = '../data_raw/dados_b.csv'"
   ]
  },
  {
   "cell_type": "code",
   "execution_count": 7,
   "metadata": {},
   "outputs": [],
   "source": [
    "new_csv=[]\n",
    "with open(path_dados_b_csv,'r') as file:\n",
    "    spamReader = csv.DictReader(file)\n",
    "    for dada in spamReader:\n",
    "        new_csv.append(dada)\n"
   ]
  },
  {
   "cell_type": "code",
   "execution_count": 8,
   "metadata": {},
   "outputs": [
    {
     "data": {
      "text/plain": [
       "{'Código': '456',\n",
       " 'Nome do Usuário': 'Maria Oliveira',\n",
       " 'Idade do Usuário': '32',\n",
       " 'Contato por Email': 'maria.oliveira@example.com',\n",
       " 'Residência': 'Rua Alegre',\n",
       " 'Cidade/UF': 'Curitiba/PR',\n",
       " 'CEP do Usuário': '87654-321',\n",
       " 'Contato': '(41) 91234-5678',\n",
       " 'Habilidades Técnicas': 'HTML | CSS | Python',\n",
       " 'Empresa 1': 'Dev Solutions',\n",
       " 'Cargo Inicial': 'Analista de Sistemas',\n",
       " 'Data de Início 1': '2018-03-10',\n",
       " 'Data de Término 1': '2021-12-20',\n",
       " 'Empresa 2': 'Coding Stars',\n",
       " 'Cargo Atual': 'Engenheira de Software',\n",
       " 'Data de Início 2': '2022-01-05',\n",
       " 'Data de Término 2': '2024-12-01',\n",
       " 'Status Atual': 'Ativa'}"
      ]
     },
     "execution_count": 8,
     "metadata": {},
     "output_type": "execute_result"
    }
   ],
   "source": [
    "new_csv[0]"
   ]
  },
  {
   "cell_type": "markdown",
   "metadata": {},
   "source": [
    "Manipulando Tabelas"
   ]
  },
  {
   "cell_type": "code",
   "execution_count": 9,
   "metadata": {},
   "outputs": [],
   "source": [
    "new_json = []\n",
    "\n",
    "for old_dict in dados_json:\n",
    "    new_dict = {}\n",
    "    for k, v in old_dict.items():\n",
    "        if isinstance(v, dict):\n",
    "            # Desaninhando o dicionário\n",
    "            for sub_k, sub_v in v.items():\n",
    "                new_dict[sub_k] = sub_v  # Prefixo com a chave principal\n",
    "        elif isinstance(v, list):\n",
    "            valor_list = ''\n",
    "            for i, v_list in enumerate(v):  # Usando índice para diferenciar\n",
    "                if isinstance(v_list, dict):\n",
    "                    for v_list_k, v_list_v in v_list.items():\n",
    "                        # Adicionando o índice para diferenciar as chaves\n",
    "                        new_dict[f\"{v_list_k} {i + 1}\"] = v_list_v\n",
    "                else:\n",
    "                    valor_list += f'{str(v_list)} | '\n",
    "            if valor_list:  # Adiciona a lista como uma string concatenada\n",
    "                valor_list = valor_list[:-2]  # Remove o último separador \" | \"\n",
    "                new_dict[k] = valor_list\n",
    "        else:\n",
    "            # Caso seja um valor simples\n",
    "            new_dict[k] = v\n",
    "\n",
    "    new_json.append(new_dict)\n",
    "\n"
   ]
  },
  {
   "cell_type": "code",
   "execution_count": 10,
   "metadata": {},
   "outputs": [
    {
     "data": {
      "text/plain": [
       "['Código',\n",
       " 'Nome do Usuário',\n",
       " 'Idade do Usuário',\n",
       " 'Contato por Email',\n",
       " 'Residência',\n",
       " 'Cidade/UF',\n",
       " 'CEP do Usuário',\n",
       " 'Contato',\n",
       " 'Habilidades Técnicas',\n",
       " 'Empresa 1',\n",
       " 'Cargo Inicial',\n",
       " 'Data de Início 1',\n",
       " 'Data de Término 1',\n",
       " 'Empresa 2',\n",
       " 'Cargo Atual',\n",
       " 'Data de Início 2',\n",
       " 'Data de Término 2',\n",
       " 'Status Atual']"
      ]
     },
     "execution_count": 10,
     "metadata": {},
     "output_type": "execute_result"
    }
   ],
   "source": [
    "nome_chaves_csv =list(new_csv[0].keys())\n",
    "nome_chaves_csv"
   ]
  },
  {
   "cell_type": "code",
   "execution_count": 11,
   "metadata": {},
   "outputs": [
    {
     "data": {
      "text/plain": [
       "{'id': 123,\n",
       " 'nome': 'João Silva',\n",
       " 'idade': 28,\n",
       " 'email': 'joao.silva@example.com',\n",
       " 'rua': 'Rua das Flores',\n",
       " 'numero': 45,\n",
       " 'cidade': 'São Paulo',\n",
       " 'estado': 'SP',\n",
       " 'cep': '01234-567',\n",
       " 'telefone': '(11) 98765-4321',\n",
       " 'habilidades': 'JavaScript | PHP | MySQL ',\n",
       " 'empresa 1': 'Tech Solutions',\n",
       " 'cargo 1': 'Desenvolvedor Frontend',\n",
       " 'inicio 1': '2020-01-15',\n",
       " 'fim 1': '2022-06-30',\n",
       " 'empresa 2': 'Web Innovators',\n",
       " 'cargo 2': 'Desenvolvedor Full Stack',\n",
       " 'inicio 2': '2022-07-01',\n",
       " 'fim 2': '2024-12-01',\n",
       " 'status': 'ativo'}"
      ]
     },
     "execution_count": 11,
     "metadata": {},
     "output_type": "execute_result"
    }
   ],
   "source": [
    "new_json[0]"
   ]
  },
  {
   "cell_type": "markdown",
   "metadata": {},
   "source": [
    "Renomeando os dados"
   ]
  },
  {
   "cell_type": "code",
   "execution_count": 12,
   "metadata": {},
   "outputs": [],
   "source": [
    "key_mapping={'Código': 'id',\n",
    " 'Nome do Usuário': 'nome',\n",
    " 'Idade do Usuário': 'idade',\n",
    " 'Contato por Email': 'email',\n",
    " 'Residência': 'rua',\n",
    " 'Cidade/UF': 'cidade',\n",
    " 'CEP do Usuário': 'cep',\n",
    " 'Contato': 'telefone',\n",
    " 'Habilidades Técnicas': 'habilidades',\n",
    " 'Empresa 1': 'Empresa 1',\n",
    " 'Cargo Inicial': 'cargo 1',\n",
    " 'Data de Início 1': 'inicio 1',\n",
    " 'Data de Término 1': 'fim 1',\n",
    " 'Empresa 2': 'empresa 2',\n",
    " 'Cargo Atual': 'cargo 2',\n",
    " 'Data de Início 2': 'inicio 2',\n",
    " 'Data de Término 2': 'fim 2',\n",
    " 'Status Atual': 'status'}"
   ]
  },
  {
   "cell_type": "code",
   "execution_count": 13,
   "metadata": {},
   "outputs": [],
   "source": [
    "new_csv_renomeado = [] \n",
    "for old_dict in new_csv:\n",
    "    new_dict = {}\n",
    "    for dict_k, dict_v in old_dict.items():\n",
    "        #print(dict_k)\n",
    "        new_dict[key_mapping[dict_k]] = dict_v\n",
    "    new_csv_renomeado.append(new_dict)"
   ]
  },
  {
   "cell_type": "code",
   "execution_count": 14,
   "metadata": {},
   "outputs": [
    {
     "data": {
      "text/plain": [
       "{'id': '456',\n",
       " 'nome': 'Maria Oliveira',\n",
       " 'idade': '32',\n",
       " 'email': 'maria.oliveira@example.com',\n",
       " 'rua': 'Rua Alegre',\n",
       " 'cidade': 'Curitiba/PR',\n",
       " 'cep': '87654-321',\n",
       " 'telefone': '(41) 91234-5678',\n",
       " 'habilidades': 'HTML | CSS | Python',\n",
       " 'Empresa 1': 'Dev Solutions',\n",
       " 'cargo 1': 'Analista de Sistemas',\n",
       " 'inicio 1': '2018-03-10',\n",
       " 'fim 1': '2021-12-20',\n",
       " 'empresa 2': 'Coding Stars',\n",
       " 'cargo 2': 'Engenheira de Software',\n",
       " 'inicio 2': '2022-01-05',\n",
       " 'fim 2': '2024-12-01',\n",
       " 'status': 'Ativa'}"
      ]
     },
     "execution_count": 14,
     "metadata": {},
     "output_type": "execute_result"
    }
   ],
   "source": [
    "new_csv_renomeado[0]"
   ]
  },
  {
   "cell_type": "markdown",
   "metadata": {},
   "source": [
    "unindo dados"
   ]
  },
  {
   "cell_type": "code",
   "execution_count": 15,
   "metadata": {},
   "outputs": [],
   "source": [
    "data_join = []\n",
    "data_join.extend(new_json)\n",
    "data_join.extend(new_csv_renomeado)\n"
   ]
  },
  {
   "cell_type": "markdown",
   "metadata": {},
   "source": [
    "validando dados"
   ]
  },
  {
   "cell_type": "code",
   "execution_count": 16,
   "metadata": {},
   "outputs": [
    {
     "name": "stdout",
     "output_type": "stream",
     "text": [
      "qtde json 3 \n",
      "qtde csv 3\n",
      "qtde join dados 6\n"
     ]
    }
   ],
   "source": [
    "qtde_json = len(new_json)\n",
    "print(f'qtde json {qtde_json} ')\n",
    "qtdeCsv = len(new_csv_renomeado)\n",
    "print(f'qtde csv {qtdeCsv}')\n",
    "qtde_join = len(data_join)\n",
    "print(f'qtde join dados {qtde_join}')\n"
   ]
  },
  {
   "cell_type": "markdown",
   "metadata": {},
   "source": [
    "tratrando dados unidos"
   ]
  },
  {
   "cell_type": "code",
   "execution_count": 17,
   "metadata": {},
   "outputs": [
    {
     "name": "stdout",
     "output_type": "stream",
     "text": [
      "['id', 'nome', 'idade', 'email', 'rua', 'numero', 'cidade', 'estado', 'cep', 'telefone', 'habilidades', 'empresa 1', 'cargo 1', 'inicio 1', 'fim 1', 'empresa 2', 'cargo 2', 'inicio 2', 'fim 2', 'status']\n"
     ]
    }
   ],
   "source": [
    "nome_colunas = list(new_json[0].keys())\n",
    "print(nome_colunas)\n"
   ]
  },
  {
   "cell_type": "code",
   "execution_count": 18,
   "metadata": {},
   "outputs": [],
   "source": [
    "data_join_list = [nome_colunas]\n",
    "for old_dict in data_join:\n",
    "    new_list = []\n",
    "    for dict_k,dict_v in old_dict.items():\n",
    "        new_list.append(old_dict.get(dict_k,'indisponível'))\n",
    "    data_join_list.append(new_list)"
   ]
  },
  {
   "cell_type": "code",
   "execution_count": 19,
   "metadata": {},
   "outputs": [
    {
     "data": {
      "text/plain": [
       "['id',\n",
       " 'nome',\n",
       " 'idade',\n",
       " 'email',\n",
       " 'rua',\n",
       " 'numero',\n",
       " 'cidade',\n",
       " 'estado',\n",
       " 'cep',\n",
       " 'telefone',\n",
       " 'habilidades',\n",
       " 'empresa 1',\n",
       " 'cargo 1',\n",
       " 'inicio 1',\n",
       " 'fim 1',\n",
       " 'empresa 2',\n",
       " 'cargo 2',\n",
       " 'inicio 2',\n",
       " 'fim 2',\n",
       " 'status']"
      ]
     },
     "execution_count": 19,
     "metadata": {},
     "output_type": "execute_result"
    }
   ],
   "source": [
    "data_join_list[0]"
   ]
  },
  {
   "cell_type": "markdown",
   "metadata": {},
   "source": [
    "unindo dados"
   ]
  },
  {
   "cell_type": "code",
   "execution_count": 20,
   "metadata": {},
   "outputs": [],
   "source": [
    "path_dados_unidos = '../data_processed/dados_unidos.csv'"
   ]
  },
  {
   "cell_type": "code",
   "execution_count": 21,
   "metadata": {},
   "outputs": [],
   "source": [
    "with open(path_dados_unidos,'w') as file:\n",
    "    write = csv.writer(file)\n",
    "    write.writerows(data_join_list)\n"
   ]
  }
 ],
 "metadata": {
  "kernelspec": {
   "display_name": ".venv",
   "language": "python",
   "name": "python3"
  },
  "language_info": {
   "codemirror_mode": {
    "name": "ipython",
    "version": 3
   },
   "file_extension": ".py",
   "mimetype": "text/x-python",
   "name": "python",
   "nbconvert_exporter": "python",
   "pygments_lexer": "ipython3",
   "version": "3.12.3"
  }
 },
 "nbformat": 4,
 "nbformat_minor": 2
}
